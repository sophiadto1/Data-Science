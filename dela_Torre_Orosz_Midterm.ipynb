{
  "nbformat": 4,
  "nbformat_minor": 0,
  "metadata": {
    "colab": {
      "provenance": [],
      "collapsed_sections": [],
      "authorship_tag": "ABX9TyO+2MKPckjfOUHOTjDDg5t1",
      "include_colab_link": true
    },
    "kernelspec": {
      "name": "python3",
      "display_name": "Python 3"
    },
    "language_info": {
      "name": "python"
    }
  },
  "cells": [
    {
      "cell_type": "markdown",
      "metadata": {
        "id": "view-in-github",
        "colab_type": "text"
      },
      "source": [
        "<a href=\"https://colab.research.google.com/github/sophiadto1/Data-Science/blob/main/dela_Torre_Orosz_Midterm.ipynb\" target=\"_parent\"><img src=\"https://colab.research.google.com/assets/colab-badge.svg\" alt=\"Open In Colab\"/></a>"
      ]
    },
    {
      "cell_type": "markdown",
      "source": [
        "#STA 2023-007 Midterm"
      ],
      "metadata": {
        "id": "U5gTRPVglq5H"
      }
    },
    {
      "cell_type": "code",
      "execution_count": 2,
      "metadata": {
        "id": "WDmTHgDrQ5_i"
      },
      "outputs": [],
      "source": [
        "import numpy as np\n",
        "import matplotlib.pyplot as plt\n"
      ]
    },
    {
      "cell_type": "code",
      "source": [
        "D = np.array([12,9,20,7,2])  #diameter\n",
        "C = np.array([38,28,63,22,6]) #circumfernce"
      ],
      "metadata": {
        "id": "dWmukMheRFe5"
      },
      "execution_count": 3,
      "outputs": []
    },
    {
      "cell_type": "code",
      "source": [
        "plt.plot(D,C,'g.') #plot numbers above"
      ],
      "metadata": {
        "colab": {
          "base_uri": "https://localhost:8080/",
          "height": 282
        },
        "id": "7l0vurDpRHKh",
        "outputId": "67f00e6d-17aa-4b5a-fbe7-af4cfe3c4b8f"
      },
      "execution_count": 4,
      "outputs": [
        {
          "output_type": "execute_result",
          "data": {
            "text/plain": [
              "[<matplotlib.lines.Line2D at 0x7fc9b862f250>]"
            ]
          },
          "metadata": {},
          "execution_count": 4
        },
        {
          "output_type": "display_data",
          "data": {
            "text/plain": [
              "<Figure size 432x288 with 1 Axes>"
            ],
            "image/png": "[encoded data removed]"
          },
          "metadata": {
            "needs_background": "light"
          }
        }
      ]
    },
    {
      "cell_type": "code",
      "source": [
        "x = D\n",
        "y = C "
      ],
      "metadata": {
        "id": "o7xP3tcrixMQ"
      },
      "execution_count": 5,
      "outputs": []
    },
    {
      "cell_type": "code",
      "source": [
        "m_guess = 0 #trying to figure out what is the best guess for model\n",
        "b_guess = 0 "
      ],
      "metadata": {
        "id": "IA4Qes9TSJSQ"
      },
      "execution_count": 6,
      "outputs": []
    },
    {
      "cell_type": "markdown",
      "source": [
        "$y=mx+b"
      ],
      "metadata": {
        "id": "6qA9ntk5Szdq"
      }
    },
    {
      "cell_type": "code",
      "source": [
        "x"
      ],
      "metadata": {
        "colab": {
          "base_uri": "https://localhost:8080/"
        },
        "id": "ybgILoGySL1w",
        "outputId": "a3ff3e47-f43f-491f-ea06-2cf47b9b204b"
      },
      "execution_count": 7,
      "outputs": [
        {
          "output_type": "execute_result",
          "data": {
            "text/plain": [
              "array([12,  9, 20,  7,  2])"
            ]
          },
          "metadata": {},
          "execution_count": 7
        }
      ]
    },
    {
      "cell_type": "code",
      "source": [
        "m_guess * x "
      ],
      "metadata": {
        "colab": {
          "base_uri": "https://localhost:8080/"
        },
        "id": "g70qvJPOSREg",
        "outputId": "36ed91f6-334c-485d-805d-2895d40c556b"
      },
      "execution_count": 8,
      "outputs": [
        {
          "output_type": "execute_result",
          "data": {
            "text/plain": [
              "array([0, 0, 0, 0, 0])"
            ]
          },
          "metadata": {},
          "execution_count": 8
        }
      ]
    },
    {
      "cell_type": "code",
      "source": [
        "m_guess * x + b_guess #function gives best guess for y"
      ],
      "metadata": {
        "colab": {
          "base_uri": "https://localhost:8080/"
        },
        "id": "IP8C2Z1ESTpw",
        "outputId": "d1b8c5a5-aaae-406d-e259-693f1beff9c5"
      },
      "execution_count": 10,
      "outputs": [
        {
          "output_type": "execute_result",
          "data": {
            "text/plain": [
              "array([0, 0, 0, 0, 0])"
            ]
          },
          "metadata": {},
          "execution_count": 10
        }
      ]
    },
    {
      "cell_type": "code",
      "source": [
        "y_guess = m_guess * x + b_guess"
      ],
      "metadata": {
        "id": "ad_UwNW1SVzQ"
      },
      "execution_count": 9,
      "outputs": []
    },
    {
      "cell_type": "code",
      "source": [
        "y_guess #does this guess actually fit the data"
      ],
      "metadata": {
        "colab": {
          "base_uri": "https://localhost:8080/"
        },
        "id": "cAdKw_1QSf-Q",
        "outputId": "e20a4076-32c8-4a7a-90b5-80a3535901c3"
      },
      "execution_count": 11,
      "outputs": [
        {
          "output_type": "execute_result",
          "data": {
            "text/plain": [
              "array([0, 0, 0, 0, 0])"
            ]
          },
          "metadata": {},
          "execution_count": 11
        }
      ]
    },
    {
      "cell_type": "code",
      "source": [
        "y_guess- C #see difference between data points and model "
      ],
      "metadata": {
        "colab": {
          "base_uri": "https://localhost:8080/"
        },
        "id": "vLZSTydRShyA",
        "outputId": "67d914b7-462a-4fa4-fb15-3a2c6e84138a"
      },
      "execution_count": 12,
      "outputs": [
        {
          "output_type": "execute_result",
          "data": {
            "text/plain": [
              "array([-38, -28, -63, -22,  -6])"
            ]
          },
          "metadata": {},
          "execution_count": 12
        }
      ]
    },
    {
      "cell_type": "code",
      "source": [
        "(y_guess- C)**2 #turns the negative numbers into postive "
      ],
      "metadata": {
        "colab": {
          "base_uri": "https://localhost:8080/"
        },
        "id": "nXH2pzMpTzMh",
        "outputId": "9bc85a09-bfc7-40ec-9dbf-7a7a17f3f8bf"
      },
      "execution_count": 13,
      "outputs": [
        {
          "output_type": "execute_result",
          "data": {
            "text/plain": [
              "array([1444,  784, 3969,  484,   36])"
            ]
          },
          "metadata": {},
          "execution_count": 13
        }
      ]
    },
    {
      "cell_type": "code",
      "source": [
        "np.sum((y_guess- C)**2) #total amount of data being incorrect"
      ],
      "metadata": {
        "colab": {
          "base_uri": "https://localhost:8080/"
        },
        "id": "B1R5QtiGURlR",
        "outputId": "a2822b5c-ed63-4915-be21-9123559f8906"
      },
      "execution_count": 14,
      "outputs": [
        {
          "output_type": "execute_result",
          "data": {
            "text/plain": [
              "6717"
            ]
          },
          "metadata": {},
          "execution_count": 14
        }
      ]
    },
    {
      "cell_type": "code",
      "source": [
        "loss=np.sum((y_guess- C)**2)"
      ],
      "metadata": {
        "id": "B3S73-TlUzDT"
      },
      "execution_count": 15,
      "outputs": []
    },
    {
      "cell_type": "code",
      "source": [
        "b_guess=0\n",
        "for m_guess in np.linspace(-100,100,100): #all possible guesses for m\n",
        "  print(m_guess)\n",
        "  y_guess = m_guess * x + b_guess"
      ],
      "metadata": {
        "colab": {
          "base_uri": "https://localhost:8080/"
        },
        "id": "s6phXcU4WQJD",
        "outputId": "c79ef011-7cf7-4fa0-f48e-264c9ef26c6f"
      },
      "execution_count": 16,
      "outputs": [
        {
          "output_type": "stream",
          "name": "stdout",
          "text": [
            "-100.0\n",
            "-97.97979797979798\n",
            "-95.95959595959596\n",
            "-93.93939393939394\n",
            "-91.91919191919192\n",
            "-89.8989898989899\n",
            "-87.87878787878788\n",
            "-85.85858585858585\n",
            "-83.83838383838383\n",
            "-81.81818181818181\n",
            "-79.79797979797979\n",
            "-77.77777777777777\n",
            "-75.75757575757575\n",
            "-73.73737373737373\n",
            "-71.71717171717171\n",
            "-69.69696969696969\n",
            "-67.67676767676767\n",
            "-65.65656565656565\n",
            "-63.63636363636363\n",
            "-61.61616161616161\n",
            "-59.59595959595959\n",
            "-57.57575757575757\n",
            "-55.55555555555555\n",
            "-53.53535353535353\n",
            "-51.515151515151516\n",
            "-49.494949494949495\n",
            "-47.474747474747474\n",
            "-45.45454545454545\n",
            "-43.43434343434343\n",
            "-41.41414141414141\n",
            "-39.39393939393939\n",
            "-37.37373737373737\n",
            "-35.35353535353535\n",
            "-33.33333333333333\n",
            "-31.313131313131308\n",
            "-29.292929292929287\n",
            "-27.272727272727266\n",
            "-25.252525252525245\n",
            "-23.232323232323225\n",
            "-21.212121212121204\n",
            "-19.191919191919183\n",
            "-17.171717171717162\n",
            "-15.151515151515142\n",
            "-13.13131313131312\n",
            "-11.1111111111111\n",
            "-9.09090909090908\n",
            "-7.0707070707070585\n",
            "-5.050505050505038\n",
            "-3.030303030303031\n",
            "-1.0101010101010104\n",
            "1.0101010101010104\n",
            "3.030303030303031\n",
            "5.050505050505052\n",
            "7.070707070707073\n",
            "9.090909090909093\n",
            "11.111111111111114\n",
            "13.131313131313135\n",
            "15.151515151515156\n",
            "17.171717171717177\n",
            "19.191919191919197\n",
            "21.212121212121218\n",
            "23.23232323232324\n",
            "25.25252525252526\n",
            "27.27272727272728\n",
            "29.2929292929293\n",
            "31.313131313131322\n",
            "33.33333333333334\n",
            "35.353535353535364\n",
            "37.373737373737384\n",
            "39.393939393939405\n",
            "41.414141414141426\n",
            "43.43434343434345\n",
            "45.45454545454547\n",
            "47.47474747474749\n",
            "49.49494949494951\n",
            "51.51515151515153\n",
            "53.53535353535355\n",
            "55.55555555555557\n",
            "57.57575757575759\n",
            "59.59595959595961\n",
            "61.616161616161634\n",
            "63.636363636363654\n",
            "65.65656565656568\n",
            "67.6767676767677\n",
            "69.69696969696972\n",
            "71.71717171717174\n",
            "73.73737373737376\n",
            "75.75757575757578\n",
            "77.7777777777778\n",
            "79.79797979797982\n",
            "81.81818181818184\n",
            "83.83838383838386\n",
            "85.85858585858588\n",
            "87.8787878787879\n",
            "89.89898989898992\n",
            "91.91919191919195\n",
            "93.93939393939394\n",
            "95.95959595959596\n",
            "97.97979797979798\n",
            "100.0\n"
          ]
        }
      ]
    },
    {
      "cell_type": "code",
      "source": [
        "best_loss_so_far= 1000000000\n",
        "m_best=0\n",
        "b_best=0\n",
        "\n",
        "\n",
        "for m_guess in np.linspace(-100,100,100):  #wanna know how well guess matches data\n",
        "  for b_guess in np.linspace(-100,100,100):\n",
        "  \n",
        "      y_guess = m_guess * x + b_guess\n",
        "      y_guess=m_guess*D + b_guess\n",
        "\n",
        "\n",
        "      loss=np.sum((y_guess- C)**2) #trying to figure out least squares is\n",
        "\n",
        "\n",
        "      if loss < best_loss_so_far: #updating the best loss\n",
        "        m_best=m_guess\n",
        "        b_best=b_guess\n",
        "        best_loss_so_far= loss #makes four loop\n",
        "\n",
        "\n",
        "\n",
        "print(\"Found best fit:\") #prints out best fit for model\n",
        "print(m_best,b_best,loss)"
      ],
      "metadata": {
        "colab": {
          "base_uri": "https://localhost:8080/"
        },
        "id": "6SRwb7qJWg0j",
        "outputId": "0a818624-aa6e-402d-f94a-9c21e421e16c"
      },
      "execution_count": 21,
      "outputs": [
        {
          "output_type": "stream",
          "name": "stdout",
          "text": [
            "Found best fit:\n",
            "3.030303030303031 1.0101010101010104 7378517.0\n"
          ]
        }
      ]
    },
    {
      "cell_type": "markdown",
      "source": [
        "The estimated equation is: C=3.0303D+1.0101"
      ],
      "metadata": {
        "id": "Mi-fbQqMc0bB"
      }
    },
    {
      "cell_type": "markdown",
      "source": [
        "3.0303 relates the diameter of the circle to the circumference"
      ],
      "metadata": {
        "id": "SJ_Ubl5ac0Ro"
      }
    },
    {
      "cell_type": "code",
      "source": [
        "y_guess = m_best * x + b_best\n",
        "\n",
        "plt.plot(x,y_guess,'r');\n",
        "plt.plot(D,C,'g.');\n",
        "plt.show()\n",
        "\n",
        "print(loss,m_best,b_best)"
      ],
      "metadata": {
        "id": "EhgsW8b8dXGY",
        "colab": {
          "base_uri": "https://localhost:8080/",
          "height": 282
        },
        "outputId": "83a0ba18-3ff1-4a07-a4e2-e28de0c41e28"
      },
      "execution_count": 22,
      "outputs": [
        {
          "output_type": "display_data",
          "data": {
            "text/plain": [
              "<Figure size 432x288 with 1 Axes>"
            ],
            "image/png": "[encoded data removed]"
          },
          "metadata": {
            "needs_background": "light"
          }
        },
        {
          "output_type": "stream",
          "name": "stdout",
          "text": [
            "7378517.0 3.030303030303031 1.0101010101010104\n"
          ]
        }
      ]
    },
    {
      "cell_type": "markdown",
      "source": [
        "Question 1:\n",
        "What do  m  and  b  represent in these equations?"
      ],
      "metadata": {
        "id": "e90M6_2yPRNP"
      }
    },
    {
      "cell_type": "markdown",
      "source": [
        "m= the slope and b= y-intercept"
      ],
      "metadata": {
        "id": "OVG_7pyGPTCV"
      }
    },
    {
      "cell_type": "markdown",
      "source": [
        "Question 2:\n",
        "Guess what the correct values  m  and  b  should be."
      ],
      "metadata": {
        "id": "GkO0HUiKPgVo"
      }
    },
    {
      "cell_type": "markdown",
      "source": [
        "The correct value for m should be pi and b should be 0"
      ],
      "metadata": {
        "id": "pQrdJY__Ph3y"
      }
    },
    {
      "cell_type": "markdown",
      "source": [
        "Question 3:\n",
        "Does it make sense to include  b  in the parameters?"
      ],
      "metadata": {
        "id": "QDqZXu5XPsyJ"
      }
    },
    {
      "cell_type": "markdown",
      "source": [
        "No, B should not be included in the parameters"
      ],
      "metadata": {
        "id": "ncFzb5P6PtEH"
      }
    },
    {
      "cell_type": "code",
      "source": [],
      "metadata": {
        "id": "s1TQGIqwP_7k"
      },
      "execution_count": null,
      "outputs": []
    }
  ]
}